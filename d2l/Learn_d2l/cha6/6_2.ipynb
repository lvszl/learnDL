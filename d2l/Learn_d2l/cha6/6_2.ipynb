{
 "cells": [
  {
   "cell_type": "code",
   "execution_count": 1,
   "metadata": {},
   "outputs": [],
   "source": [
    "# 实现卷积核\n",
    "import torch\n",
    "from torch import nn\n",
    "from d2l import torch as d2l"
   ]
  },
  {
   "cell_type": "code",
   "execution_count": 2,
   "metadata": {},
   "outputs": [],
   "source": [
    "# 卷积操作，互运算\n",
    "def corr2d(X, K):\n",
    "    \"\"\"X ：输入；K：权重矩阵，包括偏置，也叫作卷积核\"\"\"\n",
    "    h, w = K.shape  # 提取卷积核的长，宽，这是一个h * w的卷积核。我们可以发现，卷积核不一定非要是正方形\n",
    "    Y = torch.zeros((X.shape[0] - h + 1, X.shape[1] - w + 1))\n",
    "    for i in range(Y.shape[0]):\n",
    "        for j in range(Y.shape[1]):\n",
    "            Y[i, j] = (X[i : i + h, j : j + w] * K).sum()  # 切片后矩阵按元素相乘，后全部相加\n",
    "    return Y\n"
   ]
  },
  {
   "cell_type": "code",
   "execution_count": 3,
   "metadata": {},
   "outputs": [
    {
     "name": "stdout",
     "output_type": "stream",
     "text": [
      "tensor([[19., 25.],\n",
      "        [37., 43.]])\n"
     ]
    }
   ],
   "source": [
    "X = torch.tensor([\n",
    "    [0.0, 1.0, 2.0],\n",
    "    [3.0, 4.0, 5.0],\n",
    "    [6.0, 7.0, 8.0]\n",
    "])\n",
    "K = torch.tensor([\n",
    "    [0.0, 1.0],\n",
    "    [2.0, 3.0]\n",
    "])\n",
    "print(corr2d(X=X, K=K))"
   ]
  },
  {
   "cell_type": "code",
   "execution_count": 4,
   "metadata": {},
   "outputs": [],
   "source": [
    "# 卷积层\n",
    "# 注意卷积层是一个类\n",
    "# 与原文不同，我们把卷积函数放到卷积层这个类中\n",
    "class Conv2D(nn.Module):\n",
    "    \"\"\"卷积层只有一个初始化参数：卷积核大小\"\"\"\n",
    "    def __init__(self, kernel_size):\n",
    "        super().__init__()\n",
    "        self.weight = nn.Parameter(torch.rand(kernel_size))  # 卷积核随机初始化\n",
    "        self.bias = nn.Parameter(torch.zeros(1))  # 偏置初始化为0\n",
    "    \n",
    "    def corr2d(X, kernel):\n",
    "        high, wide = kernel.shape\n",
    "        Y = torch.zeros((X.shape[0] - high + 1, X.shape[1] - wide + 1))\n",
    "        for i in range(Y.shape[0]):\n",
    "            for j in range(Y.shape[1]):\n",
    "                Y[i, j] = (X[i: i + high, j : j + wide] * kernel).sum()\n",
    "        return Y\n",
    "\n",
    "    def forward(self, x):\n",
    "        return corr2d(x, self.weight) + self.bias"
   ]
  },
  {
   "cell_type": "code",
   "execution_count": 5,
   "metadata": {},
   "outputs": [
    {
     "data": {
      "text/plain": [
       "tensor([[1., 1., 0., 0., 0., 0., 1., 1.],\n",
       "        [1., 1., 0., 0., 0., 0., 1., 1.],\n",
       "        [1., 1., 0., 0., 0., 0., 1., 1.],\n",
       "        [1., 1., 0., 0., 0., 0., 1., 1.],\n",
       "        [1., 1., 0., 0., 0., 0., 1., 1.],\n",
       "        [1., 1., 0., 0., 0., 0., 1., 1.]])"
      ]
     },
     "execution_count": 5,
     "metadata": {},
     "output_type": "execute_result"
    }
   ],
   "source": [
    "# 应用 ：图像中目标的边缘检测\n",
    "X = torch.ones((6, 8))\n",
    "X[:, 2:6] = 0\n",
    "X"
   ]
  },
  {
   "cell_type": "code",
   "execution_count": 8,
   "metadata": {},
   "outputs": [
    {
     "data": {
      "text/plain": [
       "tensor([[ 1., -1.]])"
      ]
     },
     "execution_count": 8,
     "metadata": {},
     "output_type": "execute_result"
    }
   ],
   "source": [
    "# 构造卷积核：1 * 2的\n",
    "K = torch.tensor([[1.0, -1.0]])\n",
    "K"
   ]
  },
  {
   "cell_type": "code",
   "execution_count": 10,
   "metadata": {},
   "outputs": [
    {
     "data": {
      "text/plain": [
       "tensor([[ 0.,  1.,  0.,  0.,  0., -1.,  0.],\n",
       "        [ 0.,  1.,  0.,  0.,  0., -1.,  0.],\n",
       "        [ 0.,  1.,  0.,  0.,  0., -1.,  0.],\n",
       "        [ 0.,  1.,  0.,  0.,  0., -1.,  0.],\n",
       "        [ 0.,  1.,  0.,  0.,  0., -1.,  0.],\n",
       "        [ 0.,  1.,  0.,  0.,  0., -1.,  0.]])"
      ]
     },
     "execution_count": 10,
     "metadata": {},
     "output_type": "execute_result"
    }
   ],
   "source": [
    "Y = corr2d(X, K)\n",
    "Y"
   ]
  },
  {
   "cell_type": "markdown",
   "metadata": {},
   "source": [
    "# 学习卷积核"
   ]
  },
  {
   "cell_type": "code",
   "execution_count": 11,
   "metadata": {},
   "outputs": [
    {
     "name": "stdout",
     "output_type": "stream",
     "text": [
      "epoch 1, loss: 27.861\n",
      "epoch 2, loss: 11.414\n",
      "epoch 3, loss: 4.676\n",
      "epoch 4, loss: 1.916\n",
      "epoch 5, loss: 0.785\n",
      "epoch 6, loss: 0.322\n",
      "epoch 7, loss: 0.132\n",
      "epoch 8, loss: 0.054\n",
      "epoch 9, loss: 0.022\n",
      "epoch 10, loss: 0.009\n"
     ]
    }
   ],
   "source": [
    "conv2d = nn.Conv2d(1, 1, kernel_size=(1, 2), bias=False)\n",
    "\n",
    "X = X.reshape((1, 1, 6, 8))  # batch_size，通道数，高度，宽度\n",
    "Y = Y.reshape((1, 1, 6, 7))  \n",
    "lr = 3e-2\n",
    "\n",
    "epoch_num = 10\n",
    "\n",
    "for i in range(epoch_num):\n",
    "    Y_hat = conv2d(X)\n",
    "    loss = (Y_hat - Y) ** 2\n",
    "    conv2d.zero_grad()\n",
    "    loss.sum().backward()  # .sum() 操作主要用来降维，降到标量，方便反向传播，而sum操作带来的梯度是1，不影响结果\n",
    "    conv2d.weight.data[:] -= lr * conv2d.weight.grad\n",
    "    print(f'epoch {i + 1}, loss: {loss.sum():.3f}')"
   ]
  },
  {
   "cell_type": "code",
   "execution_count": 12,
   "metadata": {},
   "outputs": [
    {
     "data": {
      "text/plain": [
       "tensor([[ 0.9813, -0.9836]])"
      ]
     },
     "execution_count": 12,
     "metadata": {},
     "output_type": "execute_result"
    }
   ],
   "source": [
    "conv2d.weight.data.reshape(1, 2)"
   ]
  },
  {
   "cell_type": "markdown",
   "metadata": {},
   "source": [
    "# 数学上的卷积和DL中的卷积有什么不同\n",
    "## 数学上\n",
    "两个函数$f$ 和 $g$ 之间的卷积被定义为：此处仅考虑离散\n",
    "$$\n",
    "(f*g)(x) = \\sum_a f(a)g(x - a)\n",
    "$$\n",
    "二维：\n",
    "$$\n",
    "(f * g)(i, j) = \\sum_a\\sum_b f(a, b) g(i - a, j - b)\n",
    "$$\n",
    "但机器学习中的互相关运算：\n",
    "## 机器学习\n",
    "$$\n",
    "H[i, j] = \\sum_a \\sum_b V[a, b]X[i + a, j + b]\n",
    "$$\n",
    "\n",
    "## 差异\n",
    "可以发现，两者唯一的差别是“数学中是i - a, j - b, 机器学习中是 i + a, j + b\n",
    "可以发现，两者的数学形式基本一致，只是运算顺序有区别，但机器学习是一个学习过程，对于同一个数据集，用卷积和互相关得到的核函数是不一样的，但他们都能保证收敛，因此就无所谓了。\n"
   ]
  },
  {
   "cell_type": "markdown",
   "metadata": {},
   "source": []
  }
 ],
 "metadata": {
  "kernelspec": {
   "display_name": "d2l",
   "language": "python",
   "name": "python3"
  },
  "language_info": {
   "codemirror_mode": {
    "name": "ipython",
    "version": 3
   },
   "file_extension": ".py",
   "mimetype": "text/x-python",
   "name": "python",
   "nbconvert_exporter": "python",
   "pygments_lexer": "ipython3",
   "version": "3.10.14"
  }
 },
 "nbformat": 4,
 "nbformat_minor": 2
}
