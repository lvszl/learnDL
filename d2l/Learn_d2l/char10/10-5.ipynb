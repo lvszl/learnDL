{
 "cells": [
  {
   "cell_type": "code",
   "execution_count": 1,
   "metadata": {
    "ExecuteTime": {
     "end_time": "2023-11-10T03:32:03.938871500Z",
     "start_time": "2023-11-10T03:31:19.815925Z"
    }
   },
   "outputs": [
    {
     "name": "stderr",
     "output_type": "stream",
     "text": [
      "d:\\programfiles\\Anaconda\\anaconda\\lib\\site-packages\\torchvision\\io\\image.py:13: UserWarning: Failed to load image Python extension: '[WinError 127] 找不到指定的程序。'If you don't plan on using image functionality from `torchvision.io`, you can ignore this warning. Otherwise, there might be something wrong with your environment. Did you have `libjpeg` or `libpng` installed before building `torchvision` from source?\n",
      "  warn(\n"
     ]
    }
   ],
   "source": [
    "import math\n",
    "import torch\n",
    "from torch import nn \n",
    "from d2l import torch as d2l"
   ]
  },
  {
   "cell_type": "code",
   "execution_count": 2,
   "metadata": {},
   "outputs": [],
   "source": [
    "def masked_softmax(X, valid_lens):\n",
    "    # X:3D张量，valid_lens:1D or 2D张量\n",
    "    if valid_lens is None:\n",
    "        return nn.functional.softmax(X, dim=-1)\n",
    "    else:\n",
    "        shape = X.shape\n",
    "        if valid_lens.dim() == 1:  # valid_lens: 1D\n",
    "            valid_lens = torch.repeat_interleave(valid_lens, shape[1])\n",
    "        else: # valid_lens :2D\n",
    "            valid_lens = valid_lens.reshape(-1)\n",
    "        X = d2l.sequence_mask(X.reshape(-1, shape[-1]), valid_lens, value=-1e6)\n",
    "        return nn.functional.softmax(X.reshape(shape), dim=-1)\n",
    "            "
   ]
  },
  {
   "cell_type": "code",
   "execution_count": 3,
   "metadata": {},
   "outputs": [
    {
     "name": "stdout",
     "output_type": "stream",
     "text": [
      "原始 valid_lens: tensor([3, 2])\n",
      "重复后的 valid_lens: tensor([3, 3, 3, 3, 2, 2, 2, 2])\n"
     ]
    }
   ],
   "source": [
    "import torch\n",
    "\n",
    "# 假设 batch_size=2, sequence_length=4, feature_dim=3\n",
    "batch_size = 2\n",
    "sequence_length = 4\n",
    "feature_dim = 3\n",
    "\n",
    "# 创建一个示例的三维张量 X\n",
    "X = torch.randn((batch_size, sequence_length, feature_dim))\n",
    "\n",
    "# 假设 valid_lens 是一个一维张量，每个元素表示对应序列的有效长度\n",
    "valid_lens = torch.tensor([3, 2])\n",
    "\n",
    "# 将 valid_lens 中的每个元素重复 sequence_length 次\n",
    "expanded_valid_lens = torch.repeat_interleave(valid_lens, sequence_length)\n",
    "\n",
    "# 输出结果\n",
    "print(\"原始 valid_lens:\", valid_lens)\n",
    "print(\"重复后的 valid_lens:\", expanded_valid_lens)\n"
   ]
  },
  {
   "cell_type": "code",
   "execution_count": 4,
   "metadata": {},
   "outputs": [
    {
     "name": "stdout",
     "output_type": "stream",
     "text": [
      "tensor([[[0.5181, 0.2561, 0.2258],\n",
      "         [0.2285, 0.6253, 0.1461],\n",
      "         [0.6250, 0.3415, 0.0336],\n",
      "         [0.5456, 0.1670, 0.2874]],\n",
      "\n",
      "        [[0.4227, 0.5773, 0.0000],\n",
      "         [0.4146, 0.5854, 0.0000],\n",
      "         [0.2607, 0.7393, 0.0000],\n",
      "         [0.1716, 0.8284, 0.0000]]])\n"
     ]
    }
   ],
   "source": [
    "print(masked_softmax(X, valid_lens))"
   ]
  },
  {
   "cell_type": "code",
   "execution_count": 6,
   "metadata": {},
   "outputs": [
    {
     "data": {
      "text/plain": [
       "tensor([[-5.8062e-03, -7.1049e-01, -8.3661e-01],\n",
       "        [-1.3666e-01,  8.7001e-01, -5.8375e-01],\n",
       "        [ 9.0399e-01,  2.9955e-01, -2.0204e+00],\n",
       "        [ 7.8624e-01, -3.9792e-01,  1.4515e-01],\n",
       "        [ 1.7435e-01,  4.8610e-01, -1.0000e+06],\n",
       "        [-7.4360e-02,  2.7063e-01, -1.0000e+06],\n",
       "        [-3.6183e-01,  6.8051e-01, -1.0000e+06],\n",
       "        [-9.7340e-01,  6.0073e-01, -1.0000e+06]])"
      ]
     },
     "execution_count": 6,
     "metadata": {},
     "output_type": "execute_result"
    }
   ],
   "source": [
    "X.reshape(-1, X.shape[-1])"
   ]
  },
  {
   "cell_type": "code",
   "execution_count": 7,
   "metadata": {},
   "outputs": [
    {
     "data": {
      "text/plain": [
       "tensor([[[-5.8062e-03, -7.1049e-01, -8.3661e-01],\n",
       "         [-1.3666e-01,  8.7001e-01, -5.8375e-01],\n",
       "         [ 9.0399e-01,  2.9955e-01, -2.0204e+00],\n",
       "         [ 7.8624e-01, -3.9792e-01,  1.4515e-01]],\n",
       "\n",
       "        [[ 1.7435e-01,  4.8610e-01, -1.0000e+06],\n",
       "         [-7.4360e-02,  2.7063e-01, -1.0000e+06],\n",
       "         [-3.6183e-01,  6.8051e-01, -1.0000e+06],\n",
       "         [-9.7340e-01,  6.0073e-01, -1.0000e+06]]])"
      ]
     },
     "execution_count": 7,
     "metadata": {},
     "output_type": "execute_result"
    }
   ],
   "source": [
    "X"
   ]
  },
  {
   "cell_type": "code",
   "execution_count": null,
   "metadata": {},
   "outputs": [],
   "source": []
  }
 ],
 "metadata": {
  "kernelspec": {
   "display_name": "base",
   "language": "python",
   "name": "python3"
  },
  "language_info": {
   "codemirror_mode": {
    "name": "ipython",
    "version": 3
   },
   "file_extension": ".py",
   "mimetype": "text/x-python",
   "name": "python",
   "nbconvert_exporter": "python",
   "pygments_lexer": "ipython3",
   "version": "3.9.16"
  }
 },
 "nbformat": 4,
 "nbformat_minor": 2
}
